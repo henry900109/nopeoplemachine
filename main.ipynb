{
 "cells": [
  {
   "cell_type": "code",
   "execution_count": 17,
   "metadata": {},
   "outputs": [],
   "source": [
    "import drone as dr"
   ]
  },
  {
   "cell_type": "code",
   "execution_count": 18,
   "metadata": {},
   "outputs": [
    {
     "name": "stderr",
     "output_type": "stream",
     "text": [
      "Cropping image: 0it [00:00, ?it/s]\n",
      "Cropping label: 0it [00:00, ?it/s]\n",
      "Deleting box outside of image: 0it [00:00, ?it/s]\n",
      "Normalizing label: 0it [00:00, ?it/s]\n",
      "Removing empty label: 0it [00:00, ?it/s]\n"
     ]
    }
   ],
   "source": [
    "dr.crop.main()\n"
   ]
  },
  {
   "cell_type": "code",
   "execution_count": null,
   "metadata": {},
   "outputs": [],
   "source": []
  }
 ],
 "metadata": {
  "kernelspec": {
   "display_name": "Python 3",
   "language": "python",
   "name": "python3"
  },
  "language_info": {
   "codemirror_mode": {
    "name": "ipython",
    "version": 3
   },
   "file_extension": ".py",
   "mimetype": "text/x-python",
   "name": "python",
   "nbconvert_exporter": "python",
   "pygments_lexer": "ipython3",
   "version": "3.10.6"
  },
  "orig_nbformat": 4,
  "vscode": {
   "interpreter": {
    "hash": "1f845a8c4211d99988d080cd1986ff4a87ece43bb592ab49acf81d8b824ddb16"
   }
  }
 },
 "nbformat": 4,
 "nbformat_minor": 2
}
