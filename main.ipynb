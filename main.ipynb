{
 "cells": [
  {
   "cell_type": "code",
   "execution_count": null,
   "metadata": {},
   "outputs": [],
   "source": [
    "!nvidia-smi\n",
    "from google.colab import drive\n",
    "drive.mount('/content/drive')"
   ]
  },
  {
   "cell_type": "code",
   "execution_count": 2,
   "metadata": {},
   "outputs": [
    {
     "name": "stderr",
     "output_type": "stream",
     "text": [
      "c:\\Users\\felic\\AppData\\Local\\Programs\\Python\\Python310\\lib\\site-packages\\tqdm\\auto.py:22: TqdmWarning: IProgress not found. Please update jupyter and ipywidgets. See https://ipywidgets.readthedocs.io/en/stable/user_install.html\n",
      "  from .autonotebook import tqdm as notebook_tqdm\n",
      "c:\\Users\\felic\\AppData\\Local\\Programs\\Python\\Python310\\lib\\site-packages\\torch\\cuda\\__init__.py:83: UserWarning: CUDA initialization: CUDA driver initialization failed, you might not have a CUDA gpu. (Triggered internally at  ..\\c10\\cuda\\CUDAFunctions.cpp:109.)\n",
      "  return torch._C._cuda_getDeviceCount() > 0\n"
     ]
    }
   ],
   "source": [
    "%cd /content/drive/MyDrive/nopeoplemachine\n",
    "import drone.crop as dc\n",
    "import drone2.nmsiou as nms\n",
    "import drone.renorm640 as dr640\n",
    "import drone.renorm1088 as dr1088"
   ]
  },
  {
   "cell_type": "code",
   "execution_count": 13,
   "metadata": {},
   "outputs": [
    {
     "name": "stderr",
     "output_type": "stream",
     "text": [
      "Cropping image: 0it [00:00, ?it/s]\n",
      "Cropping label: 0it [00:00, ?it/s]\n",
      "Deleting box outside of image: 0it [00:00, ?it/s]\n",
      "Normalizing label: 0it [00:00, ?it/s]\n",
      "Removing empty label: 0it [00:00, ?it/s]\n",
      "Deleting box outside of image: 0it [00:00, ?it/s]\n",
      "Normalizing label: 0it [00:00, ?it/s]\n",
      "Removing empty label: 0it [00:00, ?it/s]\n"
     ]
    }
   ],
   "source": [
    "dc.main()"
   ]
  },
  {
   "attachments": {},
   "cell_type": "markdown",
   "metadata": {},
   "source": [
    "<h2>train 640"
   ]
  },
  {
   "cell_type": "code",
   "execution_count": null,
   "metadata": {},
   "outputs": [],
   "source": [
    "%cd yolov7\n",
    "!python train.py --weights weights\\yolov7x_training.pt --cfg ..\\machine\\yolov7x_drone.yaml --data ..\\machine\\drone.yaml --device 0 --hyp data\\hyp.scratch.custom640.yaml  --batch-size 9 --epoch 243 --name first640"
   ]
  },
  {
   "cell_type": "code",
   "execution_count": null,
   "metadata": {},
   "outputs": [],
   "source": [
    "%cd yolov7\n",
    "!python train.py --weights runs\\train\\first640\\weights\\best.pt --cfg ..\\machine\\yolov7x_drone.yaml --data ..\\machine\\drone.yaml --device 0 --hyp data\\hyp.scratch.custom640.yaml  --batch-size 16 --epoch 100 --freeze 87 --name second640"
   ]
  },
  {
   "attachments": {},
   "cell_type": "markdown",
   "metadata": {},
   "source": [
    "<h2>train 1088"
   ]
  },
  {
   "cell_type": "code",
   "execution_count": null,
   "metadata": {},
   "outputs": [],
   "source": [
    "%cd yolov7\n",
    "!python train.py --weights weights\\yolov7x_training.pt --cfg machine\\yolov7x_nopeoplemachine.yaml --data machine\\coco_nopeoplemachine.yaml --device 0  --batch-size 4 --epoch 100 --freeze 58 --name first1088"
   ]
  },
  {
   "cell_type": "code",
   "execution_count": null,
   "metadata": {},
   "outputs": [],
   "source": [
    "%cd yolov7\n",
    "!python train.py --weights runs\\train\\first1088\\weights\\best.pt --cfg machine\\yolov7x_nopeoplemachine.yaml --data machine\\coco_nopeoplemachine.yaml --device 0  --batch-size 4 --epoch 100 --freeze 53 --name second1088"
   ]
  },
  {
   "cell_type": "code",
   "execution_count": null,
   "metadata": {},
   "outputs": [],
   "source": [
    "%cd yolov7\n",
    "!python train.py --weights runs\\train\\second1088\\weights\\best.pt --cfg machine\\yolov7x_nopeoplemachine.yaml --data machine\\coco_nopeoplemachine.yaml --device 0  --batch-size 4 --epoch 100 --freeze 48 --name third1088"
   ]
  },
  {
   "attachments": {},
   "cell_type": "markdown",
   "metadata": {},
   "source": [
    "<h2>detect 640"
   ]
  },
  {
   "cell_type": "code",
   "execution_count": null,
   "metadata": {},
   "outputs": [],
   "source": [
    "%cd yolov7\n",
    "!python detect.py --weights runs/train/second640/weight/best.pt --source nopeoplemachine\\crop\\img640 --path ..\\output_label_path\\img640 --img-size 640 --save-conf --iou 0.5 --name second640"
   ]
  },
  {
   "attachments": {},
   "cell_type": "markdown",
   "metadata": {},
   "source": [
    "<h2>detect 1088"
   ]
  },
  {
   "cell_type": "code",
   "execution_count": null,
   "metadata": {},
   "outputs": [],
   "source": [
    "%cd yolov7\n",
    "!python detect.py --weights runs/train/third1088/weight/best.pt --source nopeoplemachine\\crop\\img1088 --path ..\\output_label_path\\img1088 --img-size 1088 --save-conf --conf-thres [0.5,0.4,0.35,0.35] --name third1088"
   ]
  },
  {
   "attachments": {},
   "cell_type": "markdown",
   "metadata": {},
   "source": [
    "<h2>renorm and nms 640"
   ]
  },
  {
   "cell_type": "code",
   "execution_count": 3,
   "metadata": {},
   "outputs": [
    {
     "name": "stderr",
     "output_type": "stream",
     "text": [
      "Renormalize detection labels: 0it [00:00, ?it/s]\n",
      "Transform detection labels: 0it [00:00, ?it/s]\n",
      "Combine detection labels: 0it [00:00, ?it/s]"
     ]
    },
    {
     "name": "stdout",
     "output_type": "stream",
     "text": [
      "[]\n",
      "del total: 0\n",
      "del diffient: 0\n"
     ]
    },
    {
     "name": "stderr",
     "output_type": "stream",
     "text": [
      "\n"
     ]
    }
   ],
   "source": [
    "dr640.main()"
   ]
  },
  {
   "attachments": {},
   "cell_type": "markdown",
   "metadata": {},
   "source": [
    "<h2>renorm and nms 1088"
   ]
  },
  {
   "cell_type": "code",
   "execution_count": 4,
   "metadata": {},
   "outputs": [
    {
     "name": "stdout",
     "output_type": "stream",
     "text": [
      "[]\n",
      "del total: 0\n",
      "del diffient: 0\n"
     ]
    }
   ],
   "source": [
    "dr1088.main()"
   ]
  },
  {
   "attachments": {},
   "cell_type": "markdown",
   "metadata": {},
   "source": [
    "<h2> nms 640,1088"
   ]
  },
  {
   "cell_type": "code",
   "execution_count": null,
   "metadata": {},
   "outputs": [],
   "source": [
    "nms.final_nms()"
   ]
  },
  {
   "attachments": {},
   "cell_type": "markdown",
   "metadata": {},
   "source": [
    "<h2>make result.csv"
   ]
  },
  {
   "cell_type": "code",
   "execution_count": null,
   "metadata": {},
   "outputs": [],
   "source": [
    "nms.merge()"
   ]
  }
 ],
 "metadata": {
  "kernelspec": {
   "display_name": "Python 3",
   "language": "python",
   "name": "python3"
  },
  "language_info": {
   "codemirror_mode": {
    "name": "ipython",
    "version": 3
   },
   "file_extension": ".py",
   "mimetype": "text/x-python",
   "name": "python",
   "nbconvert_exporter": "python",
   "pygments_lexer": "ipython3",
   "version": "3.10.6"
  },
  "orig_nbformat": 4,
  "vscode": {
   "interpreter": {
    "hash": "1f845a8c4211d99988d080cd1986ff4a87ece43bb592ab49acf81d8b824ddb16"
   }
  }
 },
 "nbformat": 4,
 "nbformat_minor": 2
}
