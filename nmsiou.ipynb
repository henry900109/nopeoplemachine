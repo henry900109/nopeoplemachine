{
 "cells": [
  {
   "cell_type": "code",
   "execution_count": null,
   "metadata": {},
   "outputs": [],
   "source": [
    "import pandas as pd\n",
    "from glob import glob"
   ]
  },
  {
   "cell_type": "markdown",
   "metadata": {},
   "source": [
    "<h1> 切割照片\n",
    "<h5> 切完後的路經相同 Cpath 路徑 (第三個cell) </h5>"
   ]
  },
  {
   "cell_type": "code",
   "execution_count": null,
   "metadata": {},
   "outputs": [],
   "source": [
    "filelist = glob(r\"E:\\nopeople_machine\\felic\\crop\\*csv\")\n",
    "count =0\n",
    "for item in filelist:\n",
    "    dellist = []\n",
    "    file = pd.read_csv(item,header = 0,names = [\"id\",\"x\",\"y\",\"w\",\"h\",\"conf\",\"IDcode\"])\n",
    "    Fname = item.split(\"\\\\\")[-1]\n",
    "    cn = Fname.split(\".\")[0]\n",
    "    print(cn)\n",
    "    image = cv2.imread(r\"E:\\nopeople_machine\\public\"+ \"\\\\\"+ cn + \".png\")\n",
    "    (imgheight,imgwidth,rgb) = image.shape\n",
    "    for i in range(len(file[\"id\"])):\n",
    "        #print(imgwidth)\n",
    "        if imgwidth == 1920:\n",
    "            if (file[\"IDcode\"][i] == \"3_1\") and ((int(file[\"x\"][i]) ) < 960):\n",
    "                dellist.append(i)\n",
    "            elif (file[\"IDcode\"][i] == \"2_1\") and ((int(file[\"x\"][i]) + int(file[\"w\"][i]))> 1376) :\n",
    "                dellist.append(i)\n",
    "            elif (file[\"IDcode\"][i] == \"2_1\") and  (int(file[\"x\"][i]) < 544) :\n",
    "                dellist.append(i)\n",
    "            elif (file[\"IDcode\"][i] == \"1_1\") and  ((int(file[\"x\"][i]) + int(file[\"w\"][i]))> 960) :\n",
    "                dellist.append(i)\n",
    "        else:\n",
    "            if (file[\"IDcode\"][i] == \"3_1\") and (int(file[\"x\"][i]) < 384):\n",
    "                dellist.append(i)\n",
    "            elif (file[\"IDcode\"][i] == \"2_1\") and ((int(file[\"x\"][i])+ int(file[\"w\"][i])) > 1088) :\n",
    "                dellist.append(i)\n",
    "            elif (file[\"IDcode\"][i] == \"2_1\") and  (int(file[\"x\"][i]) < 256) :\n",
    "                dellist.append(i)\n",
    "            elif (file[\"IDcode\"][i] == \"1_1\") and  ((int(file[\"x\"][i]) + int(file[\"w\"][i])) > 960) :\n",
    "                dellist.append(i)\n",
    "    count += len(file[\"id\"])\n",
    "    file.drop(file.index[dellist],axis = 0,inplace = True)\n",
    "    file.to_csv(r\"E:\\nopeople_machine\\felic\\new\" + \"\\\\\" + cn + \".csv\" ,index = 0) \n",
    "\n",
    "        "
   ]
  },
  {
   "cell_type": "markdown",
   "metadata": {},
   "source": [
    "<h1> IOU\n",
    "<h5> 存檔路徑跟第五個cell file路徑相同 </h5>"
   ]
  },
  {
   "cell_type": "code",
   "execution_count": null,
   "metadata": {},
   "outputs": [],
   "source": [
    "import torch\n",
    "def bbox_iou(box1, box2, x1y1x2y2=True, GIoU=False, DIoU=False, CIoU=False, eps=1e-7):\n",
    "    # Returns the IoU of box1 to box2. box1 is 4, box2 is nx4\n",
    "    box2 = box2.T\n",
    "    \n",
    "    # Get the coordinates of bounding boxes\n",
    "    if x1y1x2y2:  # x1, y1, x2, y2 = box1\n",
    "        b1_x1, b1_y1, b1_x2, b1_y2 = box1[0], box1[1], box1[2], box1[3]\n",
    "        b2_x1, b2_y1, b2_x2, b2_y2 = box2[0], box2[1], box2[2], box2[3]\n",
    "    else:  # transform from xywh to xyxy\n",
    "        b1_x1, b1_x2 = box1[0] - box1[2] / 2, box1[0] + box1[2] / 2\n",
    "        b1_y1, b1_y2 = box1[1] - box1[3] / 2, box1[1] + box1[3] / 2\n",
    "        b2_x1, b2_x2 = box2[0] - box2[2] / 2, box2[0] + box2[2] / 2\n",
    "        b2_y1, b2_y2 = box2[1] - box2[3] / 2, box2[1] + box2[3] / 2\n",
    "\n",
    "    # Intersection area\n",
    "    inter = (torch.min(b1_x2, b2_x2) - torch.max(b1_x1, b2_x1)).clamp(0) * \\\n",
    "            (torch.min(b1_y2, b2_y2) - torch.max(b1_y1, b2_y1)).clamp(0)\n",
    "\n",
    "    # Union Area\n",
    "    w1, h1 = b1_x2 - b1_x1, b1_y2 - b1_y1 + eps\n",
    "    w2, h2 = b2_x2 - b2_x1, b2_y2 - b2_y1 + eps\n",
    "    union = w1 * h1 + w2 * h2 - inter + eps\n",
    "\n",
    "    iou = inter / union\n",
    "\n",
    "    if GIoU or DIoU or CIoU:\n",
    "        cw = torch.max(b1_x2, b2_x2) - torch.min(b1_x1, b2_x1)  # convex (smallest enclosing box) width\n",
    "        ch = torch.max(b1_y2, b2_y2) - torch.min(b1_y1, b2_y1)  # convex height\n",
    "        if CIoU or DIoU:  # Distance or Complete IoU https://arxiv.org/abs/1911.08287v1\n",
    "            c2 = cw ** 2 + ch ** 2 + eps  # convex diagonal squared\n",
    "            rho2 = ((b2_x1 + b2_x2 - b1_x1 - b1_x2) ** 2 +\n",
    "                    (b2_y1 + b2_y2 - b1_y1 - b1_y2) ** 2) / 4  # center distance squared\n",
    "            if DIoU:\n",
    "                return iou - rho2 / c2  # DIoU\n",
    "            elif CIoU:  # https://github.com/Zzh-tju/DIoU-SSD-pytorch/blob/master/utils/box/box_utils.py#L47\n",
    "                v = (4 / math.pi ** 2) * torch.pow(torch.atan(w2 / (h2 + eps)) - torch.atan(w1 / (h1 + eps)), 2)\n",
    "                with torch.no_grad():\n",
    "                    alpha = v / (v - iou + (1 + eps))\n",
    "                return iou - (rho2 / c2 + v * alpha)  # CIoU\n",
    "        else:  # GIoU https://arxiv.org/pdf/1902.09630.pdf\n",
    "            c_area = cw * ch + eps  # convex area\n",
    "            return iou - (c_area - union) / c_area  # GIoU\n",
    "    else:\n",
    "        return iou  # IoU\n",
    "def countIOU(text,Fname):\n",
    "    del_index = []                                                                                                                   # correcting the index that need to remove\n",
    "    del_dis = []  \n",
    "    same = []                                                                                                                   # correcting the distance that need to remove (it's doesn't used)\n",
    "    for i in range(len(text)):\n",
    "        for j in range(i,len(text)):\n",
    "            if (i != j) and (text[\"IDcode\"][i] != text[\"IDcode\"][j]) and (text[\"id\"][i] == text[\"id\"][j]): \n",
    "                box1 =torch.tensor([text[\"x\"][i],text[\"y\"][i],text[\"x\"][i]+text[\"w\"][i],text[\"y\"][i]+text[\"h\"][i]])\n",
    "                box2 =torch.tensor([text[\"x\"][j],text[\"y\"][j],text[\"x\"][j]+text[\"w\"][j],text[\"y\"][j]+text[\"h\"][j]])                 # Comparing the IDcode , id is the same or not and let i not equal to j\n",
    "                #iou = IOU(text[\"x\"][i],text[\"y\"][i],text[\"w\"][i],text[\"h\"][i],text[\"x\"][j],text[\"y\"][j],text[\"w\"][j],text[\"h\"][j])   # Call the IOU function\n",
    "                iou = bbox_iou(box1,box2)\n",
    "                if iou >= 0.5:  \n",
    "                    iou = iou.item()                                                                                                     # if IOU <= 0.5 ,del\n",
    "                    if text[\"conf\"][i] > text[\"conf\"][j]:                                                                            # Comparing the confidance which is larger                 \n",
    "                        del_index.append(j)\n",
    "                        del_dis.append([j,i,text[\"IDcode\"][i],text[\"IDcode\"][j],text[\"id\"][i],text[\"id\"][j],iou])\n",
    "                    elif text[\"conf\"][j] > text[\"conf\"][i]:\n",
    "                        del_index.append(i)\n",
    "                        del_dis.append([i,j,text[\"IDcode\"][i],text[\"IDcode\"][j],text[\"id\"][i],text[\"id\"][j],iou])\n",
    "                    else:\n",
    "                        iarea = text[\"w\"][i]*text[\"h\"][i]\n",
    "                        jarea = text[\"w\"][j]*text[\"h\"][j]\n",
    "                        area = min([iarea,jarea])\n",
    "                        if area == iarea:\n",
    "                            if iarea != jarea:\n",
    "                                del_index.append(j)\n",
    "                                del_dis.append([j,i,text[\"IDcode\"][i],text[\"IDcode\"][j],text[\"id\"][i],text[\"id\"][j],iou])\n",
    "                            else:\n",
    "                                if (i or j)  not in del_index:\n",
    "                                 del_index.append(j)   \n",
    "                        else:\n",
    "                            if iarea != jarea:\n",
    "                                del_index.append(i)\n",
    "                                del_dis.append([i,j,text[\"IDcode\"][i],text[\"IDcode\"][j],text[\"id\"][i],text[\"id\"][j],iou])\n",
    "                            else:\n",
    "                                if (i or j)  not in del_index:\n",
    "                                 del_index.append(j) \n",
    "\n",
    "                    iarea = text[\"w\"][i]*text[\"h\"][i]\n",
    "                    jarea = text[\"w\"][j]*text[\"h\"][j]\n",
    "                    if iarea != jarea :\n",
    "                        if text[\"conf\"][i] >= text[\"conf\"][j]:\n",
    "                            same.append(j)\n",
    "                        else:\n",
    "                            same.append(i)\n",
    "\n",
    "    same = sorted(list(set(same)))                    \n",
    "    del_index = sorted(list(set(del_index)))\n",
    "    #del_dis = list(set(del_dis))\n",
    "    text.drop(text.index[del_index],axis = 0,inplace = True)\n",
    "    text.to_csv(r\"E:\\nopeople_machine\\nms\\new\" + \"\\\\\" + Fname ,index = 0)                                                                             # del the index\n",
    "    return del_index,same                                                                                                                 # return index which has been del            \n",
    "    text.to_csv(r\"E:\\nopeople_machine\\nms\\new\" + \"\\\\\" + Fname ,index = 0)                                                            # Save file\n"
   ]
  },
  {
   "cell_type": "markdown",
   "metadata": {},
   "source": [
    "<H1> 放入1500 csv </H1>\n",
    "<h5> Cpath 路徑跟第一個cell切完後的路經相同 </h5>"
   ]
  },
  {
   "cell_type": "code",
   "execution_count": null,
   "metadata": {},
   "outputs": [],
   "source": [
    "Cpath = r\"E:\\nopeople_machine\\felic\\new\" # first file path\n",
    "Clist = glob(Cpath + \"\\\\*.csv\")         # all first file path csv\n",
    "CHlist = [\"id\",\"x\",\"y\",\"w\",\"h\",\"conf\",\"IDcode\"]\n",
    "count = 0\n",
    "tcount = 0\n",
    "for i in range(len(Clist)):\n",
    "    Ctext = pd.read_csv(Clist[i], header=0, names=CHlist)\n",
    "    Fname = Clist[i].split(\"\\\\\")[-1]\n",
    "    #text = pd.concat([Ftext,Ctext],axis=0)                              # concat two dataframes\n",
    "    text = Ctext\n",
    "    text = text.reset_index(drop=True)                                  # reset the index\n",
    "    cf = Fname.split(\".\")[0]  \n",
    "    d,s = countIOU(text,Fname)   \n",
    "    a = len(d)-len(s)   \n",
    "    if a<0:\n",
    "        break         \n",
    "    count += a\n",
    "    tcount += len(d)                           # for instance : name = img1001\n",
    "    print(cf)\n",
    "    print(d)\n",
    "    #print(a)                                      # Use the function countIOU(text,Fname) or count(text,Fname) \n",
    "    print(\"---------------------------------------------------------------------------------\")\n",
    "print(\"del total: \" + str(tcount))\n",
    "print(\"del diffient: \" + str(count))\n"
   ]
  },
  {
   "cell_type": "markdown",
   "metadata": {},
   "source": [
    "<h1>畫一張圖測試"
   ]
  },
  {
   "cell_type": "code",
   "execution_count": null,
   "metadata": {},
   "outputs": [],
   "source": [
    "import pandas as pd\n",
    "from glob import glob\n",
    "import cv2\n",
    "import matplotlib.pyplot as plt\n",
    "imageP = r\"E:\\nopeople_machine\\public\\img1075.png\"\n",
    "image = cv2.imread(imageP)\n",
    "df = pd.read_csv(r\"E:\\nopeople_machine\\nms\\new\\img1075.csv\",header = 0,names = [\"id\",\"x\",\"y\",\"w\",\"h\",\"conf\",\"IDcode\"])\n",
    "p = [34,31]\n",
    "for i in range(len(df[\"id\"])):\n",
    "        item = [0,0,0,0,0]\n",
    "        (item[0],item[1],item[2],item[3],item[4]) = ((df[\"id\"][i]),(df[\"x\"][i]),(df[\"y\"][i]),(df[\"w\"][i]),(df[\"h\"][i]))\n",
    "        \n",
    "        image_tan = cv2.rectangle(image,(item[1],item[2]),(item[3]+item[1],item[2]+item[4]),(255,0,0),1)\n",
    "cv2.imwrite(\"abc.png\",image_tan)\n",
    "#plt.imshow(image_tan)\n",
    "#plt.show()\n",
    "\n"
   ]
  },
  {
   "cell_type": "markdown",
   "metadata": {},
   "source": [
    "<h1> 合併成result.csv</h1>\n",
    "<h5> file路徑相同第三個cell的存檔路徑  </h5>"
   ]
  },
  {
   "cell_type": "code",
   "execution_count": null,
   "metadata": {},
   "outputs": [],
   "source": [
    "f2 = open(r'E:\\nopeople_machine\\nms\\result.csv','w+') # result csv\n",
    "files = glob(r\"E:\\nopeople_machine\\nms\\new\\*.csv\")    # new 1500 csv files\n",
    "for file in files:\n",
    "  name = file.split(\"\\\\\")[-1]\n",
    "  name = name.split(\".\")[0]                           # for instance : name = img1001\n",
    "  df = pd.read_csv(file,header = 0)\n",
    "  for i in range(len(df[\"id\"])):\n",
    "    f2.write(name + \",\" + str(df[\"id\"][i]) + \",\" + str(df[\"x\"][i]) + \",\" + str(df[\"y\"][i]) + \",\" + str(df[\"w\"][i]) + \",\" + str(df[\"h\"][i]) + \"\\n\")\n",
    "\n",
    "f2.close()"
   ]
  }
 ],
 "metadata": {
  "kernelspec": {
   "display_name": "Python 3.8.5 ('base')",
   "language": "python",
   "name": "python3"
  },
  "language_info": {
   "name": "python",
   "version": "3.8.5"
  },
  "orig_nbformat": 4,
  "vscode": {
   "interpreter": {
    "hash": "ad2bdc8ecc057115af97d19610ffacc2b4e99fae6737bb82f5d7fb13d2f2c186"
   }
  }
 },
 "nbformat": 4,
 "nbformat_minor": 2
}
